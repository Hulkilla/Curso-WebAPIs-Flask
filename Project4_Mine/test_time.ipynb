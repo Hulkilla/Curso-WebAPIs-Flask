{
 "cells": [
  {
   "cell_type": "code",
   "execution_count": 11,
   "metadata": {},
   "outputs": [],
   "source": [
    "import aiohttp\n",
    "import time\n",
    "import asyncio\n",
    "import requests"
   ]
  },
  {
   "cell_type": "code",
   "execution_count": 12,
   "metadata": {},
   "outputs": [],
   "source": [
    "URL = \"http://127.0.0.1:5000\"\n",
    "start = time.time()"
   ]
  },
  {
   "cell_type": "code",
   "execution_count": 13,
   "metadata": {},
   "outputs": [
    {
     "name": "stdout",
     "output_type": "stream",
     "text": [
      "Time: 2.4495887756347656\n"
     ]
    }
   ],
   "source": [
    "results = []\n",
    "for i in range(500):\n",
    "    results.append(requests.post(URL).content)\n",
    "print(f\"Time: {time.time() - start}\")"
   ]
  },
  {
   "cell_type": "code",
   "execution_count": 16,
   "metadata": {},
   "outputs": [],
   "source": [
    "URLS = []\n",
    "for i in range(500):\n",
    "    URLS.append(\"http://127.0.0.1:5000\")\n",
    "async def test(URL):\n",
    "    async with aiohttp.ClientSession() as session:\n",
    "        async with session.post(URL) as resp:\n",
    "            return await resp.text()"
   ]
  },
  {
   "cell_type": "code",
   "execution_count": 17,
   "metadata": {},
   "outputs": [
    {
     "name": "stdout",
     "output_type": "stream",
     "text": [
      "Time: 1.6060764789581299\n"
     ]
    }
   ],
   "source": [
    "start = time.time()\n",
    "loop = asyncio.get_event_loop()\n",
    "results = await asyncio.gather(*[loop.create_task(test(URL)) for URL in URLS], return_exceptions= True)\n",
    "print(f\"Time: {time.time() - start}\")"
   ]
  }
 ],
 "metadata": {
  "kernelspec": {
   "display_name": ".venv",
   "language": "python",
   "name": "python3"
  },
  "language_info": {
   "codemirror_mode": {
    "name": "ipython",
    "version": 3
   },
   "file_extension": ".py",
   "mimetype": "text/x-python",
   "name": "python",
   "nbconvert_exporter": "python",
   "pygments_lexer": "ipython3",
   "version": "3.9.13"
  }
 },
 "nbformat": 4,
 "nbformat_minor": 2
}
